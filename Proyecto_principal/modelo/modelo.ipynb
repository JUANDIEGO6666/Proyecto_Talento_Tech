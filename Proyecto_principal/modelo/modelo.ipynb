{
 "cells": [
  {
   "cell_type": "code",
   "execution_count": 33,
   "id": "3b433b27",
   "metadata": {},
   "outputs": [],
   "source": [
    "# se realiza el modelo supervisado para la prediccion sobre poblacion total en manizales\n",
    "#================================================================\n",
    "# 1️⃣ importamos las librerias necesarias\n",
    "#================================================================\n",
    "import pandas as pd\n",
    "from sklearn.linear_model import LinearRegression\n",
    "from sklearn.model_selection import train_test_split\n",
    "import pickle\n",
    "from pathlib import Path"
   ]
  },
  {
   "cell_type": "code",
   "execution_count": 36,
   "id": "75e86cf2",
   "metadata": {},
   "outputs": [
    {
     "name": "stdout",
     "output_type": "stream",
     "text": [
      "    Año  Índice dedependencia  Índice deenvejecimiento  Índice deinfancia  \\\n",
      "0  1985             73.569557                 9.687815          36.222740   \n",
      "1  1987             71.317497                10.054592          34.535152   \n",
      "2  1989             69.026817                11.059255          33.044563   \n",
      "3  1991             66.527023                12.236154          31.551643   \n",
      "4  1993             64.166573                13.637177          30.088917   \n",
      "\n",
      "   Índice dejuventud  Índice de vejez  Población por área Urbana  \\\n",
      "0          32.243866         4.163074                     283479   \n",
      "1          31.863619         4.255428                     285550   \n",
      "2          30.911924         4.540338                     289587   \n",
      "3          29.697079         4.826649                     294487   \n",
      "4          28.486036         5.153337                     299808   \n",
      "\n",
      "   Población Centros Poblados y Rural Disperso  Relación hombre-mujer  \\\n",
      "0                                        28478              90.655960   \n",
      "1                                        27368              89.314537   \n",
      "2                                        26689              88.499634   \n",
      "3                                        26191              88.036827   \n",
      "4                                        25748              87.708504   \n",
      "\n",
      "   Población total-Hombres  Población total-Mujeres  Población Total  \n",
      "0                   148334                   163623           311957  \n",
      "1                   147628                   165290           312918  \n",
      "2                   148490                   167786           316276  \n",
      "3                   150138                   170540           320678  \n",
      "4                   152119                   173437           325556   \n",
      "\n"
     ]
    }
   ],
   "source": [
    "\n",
    "#================================================================\n",
    "# 2️⃣ se trae los datos de donde aprendera el modelo \n",
    "#================================================================\n",
    "\n",
    "df = pd.read_csv(\"archivo_corregido.csv\",encoding=\"UTF-8\")\n",
    "print(df.head(),\"\\n\")\n",
    "\n",
    "# se colocaran solo las columnas que se usaran\n",
    "df= df[['Año','Índice dedependencia','Índice deenvejecimiento','Índice deinfancia','Índice dejuventud',\n",
    "        'Índice de vejez', 'Población Total']]"
   ]
  },
  {
   "cell_type": "code",
   "execution_count": 38,
   "id": "c82ea322",
   "metadata": {},
   "outputs": [],
   "source": [
    "#================================================================\n",
    "# 3️⃣ Se Separa las variables \n",
    "#================================================================\n",
    "x=df.drop(columns=['Población Total'])\n",
    "y=df['Población Total']\n",
    "#codificar variables categoricas\n",
    "x_encoded= pd.get_dummies(x)\n",
    "#================================================================\n",
    "# 4️⃣ Dividir datos \n",
    "#================================================================\n",
    "x_train,x_test,y_train,y_test= train_test_split(x_encoded,y,test_size=0.2,random_state=42)\n",
    "#================================================================\n",
    "# 5️⃣ Entrenar Modelo \n",
    "#================================================================\n",
    "modelo=LinearRegression()\n",
    "modelo.fit(x_train,y_train)\n",
    "with open('modelo.pkl',\"wb\") as f:\n",
    "    pickle.dump(modelo,f)\n",
    "with open('columnas.pkl','wb') as f:\n",
    "    pickle.dump(x_encoded.columns.tolist(),f)"
   ]
  }
 ],
 "metadata": {
  "kernelspec": {
   "display_name": "Python 3",
   "language": "python",
   "name": "python3"
  },
  "language_info": {
   "codemirror_mode": {
    "name": "ipython",
    "version": 3
   },
   "file_extension": ".py",
   "mimetype": "text/x-python",
   "name": "python",
   "nbconvert_exporter": "python",
   "pygments_lexer": "ipython3",
   "version": "3.13.5"
  }
 },
 "nbformat": 4,
 "nbformat_minor": 5
}
